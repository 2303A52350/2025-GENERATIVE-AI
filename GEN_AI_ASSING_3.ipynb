{
  "nbformat": 4,
  "nbformat_minor": 0,
  "metadata": {
    "colab": {
      "provenance": [],
      "authorship_tag": "ABX9TyP9Pp/2cYw5bMt78GxulX4u",
      "include_colab_link": true
    },
    "kernelspec": {
      "name": "python3",
      "display_name": "Python 3"
    },
    "language_info": {
      "name": "python"
    }
  },
  "cells": [
    {
      "cell_type": "markdown",
      "metadata": {
        "id": "view-in-github",
        "colab_type": "text"
      },
      "source": [
        "<a href=\"https://colab.research.google.com/github/2303A52350/2025-GENERATIVE-AI/blob/main/GEN_AI_ASSING_3.ipynb\" target=\"_parent\"><img src=\"https://colab.research.google.com/assets/colab-badge.svg\" alt=\"Open In Colab\"/></a>"
      ]
    },
    {
      "cell_type": "code",
      "source": [
        "#Question-01\n",
        "def derivative(x):\n",
        "    return 20 * x**3 + 6 * x\n",
        "def gradient_descent(learning_rate, iterations, initial_x):\n",
        "    x = initial_x\n",
        "    for _ in range(iterations):\n",
        "     grad = derivative(x)\n",
        "     x = x - learning_rate * grad\n",
        "     return x\n",
        "    learning_rate = 0.01\n",
        "    iterations = 1000\n",
        "    initial_x = 1.0\n",
        "    x_min = gradient_descent(learning_rate, iterations, initial_x)\n",
        "print(\"The value of x that minimizes f(x) is:\", x_min)"
      ],
      "metadata": {
        "colab": {
          "base_uri": "https://localhost:8080/"
        },
        "id": "QLucOS-y0kLr",
        "outputId": "d9b700c6-7cf8-4b34-a82d-d4a0f8d14de0"
      },
      "execution_count": null,
      "outputs": [
        {
          "output_type": "stream",
          "name": "stdout",
          "text": [
            "The value of x that minimizes f(x) is: 0.74\n"
          ]
        }
      ]
    },
    {
      "cell_type": "code",
      "source": [
        "#Question2\n",
        "def derivative_x(x):\n",
        "    return 6 * x\n",
        "def derivative_y(y):\n",
        "    return -5 * math.exp(-y)\n",
        "def gradient_descent(learning_rate, iterations, initial_x, initial_y):\n",
        "    x, y = initial_x, initial_y\n",
        "    for _ in range(iterations):\n",
        "        grad_x = derivative_x(x)\n",
        "        grad_y = derivative_y(y)\n",
        "        x = x - learning_rate * grad_x\n",
        "        y = y - learning_rate * grad_y\n",
        "    return x, y\n",
        "learning_rate = 0.01\n",
        "iterations = 1000\n",
        "initial_x, initial_y = 1.0, 1.0\n",
        "x_min, y_min = gradient_descent(learning_rate, iterations, initial_x, initial_y)\n",
        "print(\"The values of x and y that minimize g(x, y) are:\", x_min, y_min)"
      ],
      "metadata": {
        "colab": {
          "base_uri": "https://localhost:8080/"
        },
        "id": "dNCpPhBF1yeI",
        "outputId": "cc938534-363c-4fe1-9d8a-da5a6c4b1129"
      },
      "execution_count": null,
      "outputs": [
        {
          "output_type": "stream",
          "name": "stdout",
          "text": [
            "The values of x and y that minimize g(x, y) are: 1.3423123924933694e-27 3.9663707936306642\n"
          ]
        }
      ]
    },
    {
      "cell_type": "code",
      "source": [
        "#Question 3\n",
        "def sigmoid_derivative(x):\n",
        "    sig_x = 1 / (1 + 2.71828**-x)\n",
        "    return sig_x * (1 - sig_x)\n",
        "def gradient_descent(learning_rate, iterations, initial_x):\n",
        "  x = initial_x\n",
        "  for _ in range(iterations):\n",
        "    grad = sigmoid_derivative(x)\n",
        "    x = x - learning_rate * grad\n",
        "  return x\n",
        "learning_rate = 0.1\n",
        "iterations = 1000\n",
        "initial_x = 0.0\n",
        "x_min = gradient_descent(learning_rate, iterations, initial_x)\n",
        "print(\"The value of x that minimizes(x) is :\",x_min)\n"
      ],
      "metadata": {
        "colab": {
          "base_uri": "https://localhost:8080/"
        },
        "id": "fvmALZ482mx8",
        "outputId": "2ff93472-8781-4aa7-88b7-ba9100fc1da2"
      },
      "execution_count": null,
      "outputs": [
        {
          "output_type": "stream",
          "name": "stdout",
          "text": [
            "The value of x that minimizes(x) is : -4.512438801965497\n"
          ]
        }
      ]
    },
    {
      "cell_type": "code",
      "source": [
        "#Question 4\n",
        "def squared_error(m, c, input_value, expected_output):\n",
        "  predicted_output = m * input_value + c\n",
        "  return (expected_output - predicted_output) ** 2\n",
        "def derivatives(m, c, input_value, expected_output):\n",
        "  predicted_output = m * input_value + c\n",
        "  error = expected_output - predicted_output\n",
        "  d_m = -2 * input_value * error\n",
        "  d_c = -2 * error\n",
        "  return d_m, d_c\n",
        "def gradient_descent(learning_rate, iterations, input_value, expected_output):\n",
        "  m, c = 0.0, 0.0\n",
        "  for _ in range(iterations):\n",
        "    d_m, d_c = derivatives(m, c, input_value, expected_output)\n",
        "    m = m - learning_rate * d_m\n",
        "    c = c - learning_rate * d_c\n",
        "  return m, c\n",
        "learning_rate = 0.01\n",
        "iterations = 1000\n",
        "input_value = 2\n",
        "expected_output = 0.5\n",
        "optimal_m, optimal_c = gradient_descent(learning_rate, iterations, input_value, expected_output)\n",
        "print(\"Optimal M:\", optimal_m)\n",
        "print(\"Optimal C:\", optimal_c)\n"
      ],
      "metadata": {
        "colab": {
          "base_uri": "https://localhost:8080/"
        },
        "id": "o-6CBaX53rRN",
        "outputId": "b5a10d77-4b3b-420c-9a1e-4c20efbab6fe"
      },
      "execution_count": null,
      "outputs": [
        {
          "output_type": "stream",
          "name": "stdout",
          "text": [
            "Optimal M: 0.19999999999999987\n",
            "Optimal C: 0.09999999999999994\n"
          ]
        }
      ]
    }
  ]
}