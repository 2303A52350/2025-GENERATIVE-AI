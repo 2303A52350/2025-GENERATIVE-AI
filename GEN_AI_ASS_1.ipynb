{
  "nbformat": 4,
  "nbformat_minor": 0,
  "metadata": {
    "colab": {
      "provenance": [],
      "authorship_tag": "ABX9TyMXckH3IYYTVAZls3VBXESs",
      "include_colab_link": true
    },
    "kernelspec": {
      "name": "python3",
      "display_name": "Python 3"
    },
    "language_info": {
      "name": "python"
    }
  },
  "cells": [
    {
      "cell_type": "markdown",
      "metadata": {
        "id": "view-in-github",
        "colab_type": "text"
      },
      "source": [
        "<a href=\"https://colab.research.google.com/github/2303A52350/2025-GENERATIVE-AI/blob/main/GEN_AI_ASS_1.ipynb\" target=\"_parent\"><img src=\"https://colab.research.google.com/assets/colab-badge.svg\" alt=\"Open In Colab\"/></a>"
      ]
    },
    {
      "cell_type": "markdown",
      "source": [
        "Question  1"
      ],
      "metadata": {
        "id": "vEx9_JVfowT7"
      }
    },
    {
      "cell_type": "code",
      "source": [
        "import numpy as np\n",
        "import matplotlib.pyplot as plt\n",
        "from sklearn.metrics import mean_absolute_error, mean_squared_error, r2_score\n",
        "\n",
        "\n",
        "YActual = np.array([20, 30, 40, 50, 60])\n",
        "YPred = np.array([20.5, 30.3, 40.2, 50.6, 60.7])\n",
        "\n",
        "\n",
        "def mean_absolute_error_scratch(y_actual, y_pred):\n",
        "    return np.mean(np.abs(y_actual - y_pred))\n",
        "\n",
        "def mean_squared_error_scratch(y_actual, y_pred):\n",
        "    return np.mean((y_actual - y_pred)**2)\n",
        "\n",
        "def root_mean_squared_error_scratch(y_actual, y_pred):\n",
        "    mse = mean_squared_error_scratch(y_actual, y_pred)\n",
        "    return np.sqrt(mse)\n",
        "\n",
        "\n",
        "mae_scratch = mean_absolute_error_scratch(YActual, YPred)\n",
        "mse_scratch = mean_squared_error_scratch(YActual, YPred)\n",
        "rmse_scratch = root_mean_squared_error_scratch(YActual, YPred)\n",
        "\n",
        "\n",
        "print(\"Error Metrics (From Scratch):\")\n",
        "print(f\"Mean Absolute Error (MAE): {mae_scratch:.4f}\")\n",
        "print(f\"Mean Squared Error (MSE): {mse_scratch:.4f}\")\n",
        "print(f\"Root Mean Squared Error (RMSE): {rmse_scratch:.4f}\")\n"
      ],
      "metadata": {
        "colab": {
          "base_uri": "https://localhost:8080/"
        },
        "id": "5GI3DL9In01l",
        "outputId": "dc2da29d-cd78-45d3-9bcc-7caa4c117306"
      },
      "execution_count": 9,
      "outputs": [
        {
          "output_type": "stream",
          "name": "stdout",
          "text": [
            "Error Metrics (From Scratch):\n",
            "Mean Absolute Error (MAE): 0.4600\n",
            "Mean Squared Error (MSE): 0.2460\n",
            "Root Mean Squared Error (RMSE): 0.4960\n"
          ]
        }
      ]
    },
    {
      "cell_type": "markdown",
      "source": [
        "Question 2"
      ],
      "metadata": {
        "id": "mvNq07P1pEgn"
      }
    },
    {
      "cell_type": "code",
      "source": [
        "import numpy as np\n",
        "from sklearn.metrics import mean_absolute_error, mean_squared_error, r2_score\n",
        "\n",
        "Y_actual = np.array([20, 30, 40, 50, 60])\n",
        "Y_pred = np.array([20.5, 30.3, 40.2, 50.6, 60.7])\n",
        "\n",
        "def mean_absolute_error_custom(y_actual, y_pred):\n",
        "    return np.mean(np.abs(y_actual - y_pred))\n",
        "\n",
        "def mean_squared_error_custom(y_actual, y_pred):\n",
        "    return np.mean((y_actual - y_pred) ** 2)\n",
        "def r2_score_custom(y_actual, y_pred):\n",
        "    ss_total = np.sum((y_actual - np.mean(y_actual)) ** 2)\n",
        "    ss_residual = np.sum((y_actual - y_pred) ** 2)\n",
        "    return 1 - (ss_residual / ss_total)\n",
        "mae_custom = mean_absolute_error_custom(Y_actual, Y_pred)\n",
        "mse_custom = mean_squared_error_custom(Y_actual, Y_pred)\n",
        "r2_custom = r2_score_custom(Y_actual, Y_pred)\n",
        "print(f\"Custom Mean Absolute Error (MAE): {mae_custom}\")\n",
        "print(f\"Custom Mean Squared Error (MSE): {mse_custom}\")\n",
        "print(f\"Custom R² Score: {r2_custom}\")\n",
        "\n",
        "mae_library = mean_absolute_error(Y_actual, Y_pred)\n",
        "mse_library = mean_squared_error(Y_actual, Y_pred)\n",
        "r2_library = r2_score(Y_actual, Y_pred)\n",
        "print(\"\\nLibrary results using scikit-learn:\")\n",
        "print(f\"Mean Absolute Error (MAE): {mae_library}\")\n",
        "print(f\"Mean Squared Error (MSE): {mse_library}\")\n",
        "print(f\"R² Score: {r2_library}\")"
      ],
      "metadata": {
        "colab": {
          "base_uri": "https://localhost:8080/"
        },
        "id": "yqf2Ru4zphY7",
        "outputId": "acc8dbca-2311-487a-9ed7-00fd6355a132"
      },
      "execution_count": 10,
      "outputs": [
        {
          "output_type": "stream",
          "name": "stdout",
          "text": [
            "Custom Mean Absolute Error (MAE): 0.4600000000000016\n",
            "Custom Mean Squared Error (MSE): 0.24600000000000147\n",
            "Custom R² Score: 0.99877\n",
            "\n",
            "Library results using scikit-learn:\n",
            "Mean Absolute Error (MAE): 0.4600000000000016\n",
            "Mean Squared Error (MSE): 0.24600000000000147\n",
            "R² Score: 0.99877\n"
          ]
        }
      ]
    },
    {
      "cell_type": "code",
      "source": [],
      "metadata": {
        "id": "ikPR-m-hrMXY"
      },
      "execution_count": null,
      "outputs": []
    }
  ]
}