{
  "cells": [
    {
      "cell_type": "markdown",
      "metadata": {
        "id": "view-in-github",
        "colab_type": "text"
      },
      "source": [
        "<a href=\"https://colab.research.google.com/github/2303A52350/2025-GENERATIVE-AI/blob/main/GEN_AL_ASS_5.ipynb\" target=\"_parent\"><img src=\"https://colab.research.google.com/assets/colab-badge.svg\" alt=\"Open In Colab\"/></a>"
      ]
    },
    {
      "cell_type": "code",
      "execution_count": null,
      "metadata": {
        "colab": {
          "background_save": true,
          "base_uri": "https://localhost:8080/"
        },
        "id": "aZ8WpYqy4ocr",
        "outputId": "d57a5dc2-1a24-48a5-bb8f-c0c76a8bca5c"
      },
      "outputs": [
        {
          "metadata": {
            "tags": null
          },
          "name": "stdout",
          "output_type": "stream",
          "text": [
            "Training MSE: 0.000091\n",
            "Test MSE: 0.000405\n"
          ]
        }
      ],
      "source": [
        "import numpy as np\n",
        "\n",
        "def sigmoid(x):\n",
        "    return 1 / (1 + np.exp(-x))\n",
        "\n",
        "def sigmoid_derivative(x):\n",
        "    return x * (1 - x)\n",
        "\n",
        "def train_ann(X, y, hidden_neurons=2, lr=0.01, epochs=10000):\n",
        "    np.random.seed(42)\n",
        "    input_neurons = X.shape[1]\n",
        "    output_neurons = 1\n",
        "\n",
        "    W1 = np.random.rand(input_neurons, hidden_neurons)\n",
        "    b1 = np.random.rand(hidden_neurons)\n",
        "    W2 = np.random.rand(hidden_neurons, output_neurons)\n",
        "    b2 = np.random.rand(output_neurons)\n",
        "\n",
        "    for _ in range(epochs):\n",
        "        hidden_input = np.dot(X, W1) + b1\n",
        "        hidden_output = sigmoid(hidden_input)\n",
        "        final_input = np.dot(hidden_output, W2) + b2\n",
        "        final_output = final_input\n",
        "\n",
        "        error = y - final_output\n",
        "        d_output = error\n",
        "\n",
        "        error_hidden = d_output.dot(W2.T) * sigmoid_derivative(hidden_output)\n",
        "\n",
        "        W2 += hidden_output.T.dot(d_output) * lr\n",
        "        b2 += np.sum(d_output, axis=0) * lr\n",
        "        W1 += X.T.dot(error_hidden) * lr\n",
        "        b1 += np.sum(error_hidden, axis=0) * lr\n",
        "\n",
        "    return W1, b1, W2, b2\n",
        "\n",
        "def predict(X, W1, b1, W2, b2):\n",
        "    hidden_output = sigmoid(np.dot(X, W1) + b1)\n",
        "    return np.dot(hidden_output, W2) + b2\n",
        "\n",
        "def mse(y_true, y_pred):\n",
        "    return np.mean((y_true - y_pred) ** 2)\n",
        "\n",
        "X_train = np.array([[1, 2], [2, 3], [5, 6], [6, 7], [7, 8], [8, 9]])\n",
        "y_train = np.array([[0.4140], [0.4611], [0.5501], [0.5656], [0.5765], [0.5840]])\n",
        "\n",
        "W1, b1, W2, b2 = train_ann(X_train, y_train)\n",
        "\n",
        "train_predictions = predict(X_train, W1, b1, W2, b2)\n",
        "train_mse = mse(y_train, train_predictions)\n",
        "print(f'Training MSE: {train_mse:.6f}')\n",
        "\n",
        "X_test = np.array([[3, 4], [4, 5]])\n",
        "y_test = np.array([[0.4992], [0.5285]])\n",
        "\n",
        "test_predictions = predict(X_test, W1, b1, W2, b2)\n",
        "test_mse = mse(y_test, test_predictions)\n",
        "print(f'Test MSE: {test_mse:.6f}')\n",
        "\n",
        "x1, x2 = map(float, input(\"Enter x1 and x2: \").split())\n",
        "user_input = np.array([[x1, x2]])\n",
        "user_prediction = predict(user_input, W1, b1, W2, b2)\n",
        "print(f'Predicted output: {user_prediction[0][0]:.6f}')"
      ]
    }
  ],
  "metadata": {
    "colab": {
      "provenance": [],
      "authorship_tag": "ABX9TyPbNu5Z/cRrL7In+S8sBXoI",
      "include_colab_link": true
    },
    "kernelspec": {
      "display_name": "Python 3",
      "name": "python3"
    },
    "language_info": {
      "name": "python"
    }
  },
  "nbformat": 4,
  "nbformat_minor": 0
}