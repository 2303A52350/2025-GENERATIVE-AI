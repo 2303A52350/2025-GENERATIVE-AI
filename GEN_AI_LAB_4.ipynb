{
  "cells": [
    {
      "cell_type": "markdown",
      "metadata": {
        "id": "view-in-github",
        "colab_type": "text"
      },
      "source": [
        "<a href=\"https://colab.research.google.com/github/2303A52350/2025-GENERATIVE-AI/blob/main/GEN_AI_LAB_4.ipynb\" target=\"_parent\"><img src=\"https://colab.research.google.com/assets/colab-badge.svg\" alt=\"Open In Colab\"/></a>"
      ]
    },
    {
      "cell_type": "code",
      "execution_count": null,
      "metadata": {
        "colab": {
          "background_save": true,
          "base_uri": "https://localhost:8080/"
        },
        "id": "Gb8W8uq_zm1Q",
        "outputId": "8c19e24d-fdfc-474a-9525-1e8d11412eb3"
      },
      "outputs": [
        {
          "name": "stdout",
          "output_type": "stream",
          "text": [
            "Epoch 0/1000, Loss: 0.09132840070578997\n",
            "Epoch 100/1000, Loss: 0.0028895679215285696\n",
            "Epoch 200/1000, Loss: 0.0024039601111554305\n",
            "Epoch 300/1000, Loss: 0.002113820862910426\n",
            "Epoch 400/1000, Loss: 0.0018592955244918126\n",
            "Epoch 500/1000, Loss: 0.001635794396532602\n",
            "Epoch 600/1000, Loss: 0.0014395288379976633\n",
            "Epoch 700/1000, Loss: 0.0012671739694368879\n",
            "Epoch 800/1000, Loss: 0.0011158114341660993\n",
            "Epoch 900/1000, Loss: 0.0009828796072716434\n",
            "Test Loss: 0.0031548860002327027\n"
          ]
        }
      ],
      "source": [
        "import numpy as np\n",
        "X_train = np.array([[0.1, 0.2, 0.3], [0.2, 0.3, 0.4], [0.3, 0.4, 0.5],\n",
        "                    [0.5, 0.6, 0.7], [0.1, 0.3, 0.5], [0.2, 0.4, 0.6],\n",
        "                    [0.3, 0.5, 0.7], [0.4, 0.6, 0.8], [0.5, 0.7, 0.1]])\n",
        "y_train = np.array([0.14, 0.20, 0.26, 0.38, 0.22, 0.28, 0.34, 0.40, 0.22])\n",
        "X_test = np.array([[0.6, 0.7, 0.8], [0.7, 0.8, 0.9]])\n",
        "y_test = np.array([0.44, 0.50])\n",
        "weights = np.random.randn(3) * 0.1\n",
        "bias = 0.0\n",
        "learning_rate = 0.01\n",
        "def mean_squared_error(y_true, y_pred):\n",
        "    return np.mean((y_true - y_pred) ** 2)\n",
        "epochs = 1000\n",
        "for epoch in range(epochs):\n",
        "    y_pred = np.dot(X_train, weights) + bias\n",
        "    loss = mean_squared_error(y_train, y_pred)\n",
        "    grad_weights = -2 * np.dot(X_train.T, (y_train - y_pred)) / X_train.shape[0]\n",
        "    grad_bias = -2 * np.sum(y_train - y_pred) / X_train.shape[0]\n",
        "    weights -= learning_rate * grad_weights\n",
        "    bias -= learning_rate * grad_bias\n",
        "    if epoch % 100 == 0:\n",
        "       print(f'Epoch {epoch}/{epochs}, Loss: {loss}')\n",
        "y_test_pred = np.dot(X_test, weights) + bias\n",
        "test_loss = mean_squared_error(y_test, y_test_pred)\n",
        "print(f'Test Loss: {test_loss}')\n",
        "def predict_user_input():\n",
        "    x1 = float(input(\"Enter value for x1: \"))\n",
        "    x2 = float(input(\"Enter value for x2: \"))\n",
        "    x3 = float(input(\"Enter value for x3: \"))\n",
        "    user_input = np.array([x1, x2, x3])\n",
        "    user_prediction = np.dot(user_input, weights) + bias\n",
        "    print(f\"Predicted Output: {user_prediction}\")\n",
        "\n",
        "predict_user_input()"
      ]
    }
  ],
  "metadata": {
    "colab": {
      "provenance": [],
      "authorship_tag": "ABX9TyOQhc/cjwT5nv0KBuDerhPf",
      "include_colab_link": true
    },
    "kernelspec": {
      "display_name": "Python 3",
      "name": "python3"
    },
    "language_info": {
      "name": "python"
    }
  },
  "nbformat": 4,
  "nbformat_minor": 0
}